{
 "cells": [
  {
   "cell_type": "markdown",
   "metadata": {},
   "source": [
    "# Final Project\n",
    "# Clustering the Neighbourhoods with Chinese Restaurants of London"
   ]
  },
  {
   "cell_type": "markdown",
   "metadata": {},
   "source": [
    "## Introduction"
   ]
  },
  {
   "cell_type": "markdown",
   "metadata": {},
   "source": [
    "This is the final project of the IBM Data Science Course on Coursera. In this project, I have analyzed the scenario of Chinese Restaurants in London. The results and data obtained mighb be used such as information for tourisms guides, neighbourhoods where it is possible to create a new chinese restaurant or areas to avoid in the city for this news Chinese restaurants. Whit these ideas in mind, I have developed this project to get the correct information for tourists or the best locations for new restaurant. The project will be developed with python, Foursquare API and all tools and mechanism that I have learned in this IBM Course."
   ]
  },
  {
   "cell_type": "markdown",
   "metadata": {},
   "source": [
    "## Business problem"
   ]
  },
  {
   "cell_type": "markdown",
   "metadata": {},
   "source": [
    "The aim of this project is to help to find the best location for any person that wants establish his Chinese Restaurant in London. In addition, this project can help to ellaborate a tourist guide with the better information about Chinese Restaurants in the capital of United Kingdom."
   ]
  }
 ],
 "metadata": {
  "kernelspec": {
   "display_name": "Python 3",
   "language": "python",
   "name": "python3"
  },
  "language_info": {
   "codemirror_mode": {
    "name": "ipython",
    "version": 3
   },
   "file_extension": ".py",
   "mimetype": "text/x-python",
   "name": "python",
   "nbconvert_exporter": "python",
   "pygments_lexer": "ipython3",
   "version": "3.8.5"
  }
 },
 "nbformat": 4,
 "nbformat_minor": 4
}
