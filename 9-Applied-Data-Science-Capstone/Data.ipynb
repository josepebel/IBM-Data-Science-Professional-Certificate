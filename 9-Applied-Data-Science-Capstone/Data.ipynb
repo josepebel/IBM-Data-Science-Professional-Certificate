{
 "cells": [
  {
   "cell_type": "markdown",
   "metadata": {},
   "source": [
    "# Final Project\n",
    "# Clustering the Neighbourhoods with Chinese Restaurants of London"
   ]
  },
  {
   "cell_type": "markdown",
   "metadata": {},
   "source": [
    "## Data"
   ]
  },
  {
   "cell_type": "markdown",
   "metadata": {},
   "source": [
    "It is necessary data about the boroughs(or Neighbourhoods), geolocation data of each borough and all the venues in each borough visited by the people in London. When we have obtained this information will be relevant the correct union of valid information in order to cluster the Neighbourhoods and obtain valuables results. We are going to use the following apps or websites pages in order to obtain the primary information:\n",
    "\n",
    "1. Wikipedia\n",
    "2. Foursquare API\n",
    "3. ArcGIS geolocations"
   ]
  },
  {
   "cell_type": "markdown",
   "metadata": {},
   "source": [
    "### Wikipedia"
   ]
  },
  {
   "cell_type": "markdown",
   "metadata": {},
   "source": [
    "To obtain the data of London's Borough, we have to scrape data from:\n",
    "https://en.wikipedia.org/wiki/List_of_areas_of_London\n",
    "\n",
    "On this website we will obtain: Borough, Town and Postal code after clean the dataframes.\n",
    "\n",
    "1. Borough: Name of Neighbourhood\n",
    "2. Town: Name of Borough\n",
    "3. Post-code: Postal codes in London"
   ]
  },
  {
   "cell_type": "markdown",
   "metadata": {},
   "source": [
    "### Foursquare API"
   ]
  },
  {
   "cell_type": "markdown",
   "metadata": {},
   "source": [
    "We need credentials in order to obtain the information, so first of all we have to register in Foursquare Developer API https://foursquare.com/\n",
    "\n",
    "All the information about venues location in London will be provided by Foursquare API. This information will be the cornerstone to elaborate this project.\n",
    "\n",
    "On this website we will obtain: Neighbourhoods, latitude, longitude, venues and venues category.\n",
    "\n",
    "1. Neighbourhood: Name of Neighbourhood in London\n",
    "2. Latitude Neighbourhood: Latitude coordinate of each Neighbourhood in London\n",
    "3. Longitude Neighbourhood: Longitude coordinate of each Neihgbourhood in London\n",
    "4. Venue: Name of venue in London\n",
    "5. Venue Category: Category assigned of each venue in London"
   ]
  },
  {
   "cell_type": "markdown",
   "metadata": {},
   "source": [
    "### ArcGIS geolocations"
   ]
  },
  {
   "cell_type": "markdown",
   "metadata": {},
   "source": [
    "Arcgis is a System of Geographic Information (GIS) that provide to the project the coordinates of each neighbourhood and the city of London in order to obtain the maps and make the cluster with Folium.\n",
    "\n",
    "1. Latitude Neighbourhood: Data of latitude coordinates\n",
    "2. Longitude Neighbourhood: Data of longitude coordinates"
   ]
  }
 ],
 "metadata": {
  "kernelspec": {
   "display_name": "Python 3",
   "language": "python",
   "name": "python3"
  },
  "language_info": {
   "codemirror_mode": {
    "name": "ipython",
    "version": 3
   },
   "file_extension": ".py",
   "mimetype": "text/x-python",
   "name": "python",
   "nbconvert_exporter": "python",
   "pygments_lexer": "ipython3",
   "version": "3.8.5"
  }
 },
 "nbformat": 4,
 "nbformat_minor": 4
}
